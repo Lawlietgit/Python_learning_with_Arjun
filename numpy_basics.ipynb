{
 "cells": [
  {
   "cell_type": "code",
   "execution_count": 1,
   "metadata": {},
   "outputs": [],
   "source": [
    "import numpy as np"
   ]
  },
  {
   "cell_type": "markdown",
   "metadata": {},
   "source": [
    "# numpy is used for\n",
    "1. high performance calculation on vectors and matrices -- uses C as its lower level engine\n",
    "   (BLAS/LAPACK)\n",
    "2. do complex calculations"
   ]
  },
  {
   "cell_type": "code",
   "execution_count": null,
   "metadata": {},
   "outputs": [],
   "source": [
    "# numpy --> random --> random/randn/rand/randint\n",
    "#       --> cosine\n",
    "#       --> mean"
   ]
  },
  {
   "cell_type": "code",
   "execution_count": 2,
   "metadata": {},
   "outputs": [],
   "source": [
    "my_list = [1,2,3,4,5]\n",
    "arr = np.array(my_list)"
   ]
  },
  {
   "cell_type": "code",
   "execution_count": 4,
   "metadata": {},
   "outputs": [
    {
     "data": {
      "text/plain": [
       "(list, numpy.ndarray)"
      ]
     },
     "execution_count": 4,
     "metadata": {},
     "output_type": "execute_result"
    }
   ],
   "source": [
    "type(my_list), type(arr)"
   ]
  },
  {
   "cell_type": "code",
   "execution_count": 6,
   "metadata": {},
   "outputs": [
    {
     "data": {
      "text/plain": [
       "(array([[0., 0., 0., 0.],\n",
       "        [0., 0., 0., 0.],\n",
       "        [0., 0., 0., 0.],\n",
       "        [0., 0., 0., 0.]]), array([[1., 1., 1., 1.],\n",
       "        [1., 1., 1., 1.],\n",
       "        [1., 1., 1., 1.],\n",
       "        [1., 1., 1., 1.]]))"
      ]
     },
     "execution_count": 6,
     "metadata": {},
     "output_type": "execute_result"
    }
   ],
   "source": [
    "np.zeros((4,4)), np.ones((4,4))"
   ]
  },
  {
   "cell_type": "code",
   "execution_count": 8,
   "metadata": {},
   "outputs": [
    {
     "data": {
      "text/plain": [
       "array([[0.1496053 , 0.27401047, 0.04313724, 0.51859105],\n",
       "       [0.5838184 , 0.04834057, 0.16464156, 0.23418057],\n",
       "       [0.93248137, 0.02741065, 0.79325845, 0.98970038],\n",
       "       [0.63405269, 0.65048656, 0.90175079, 0.70661673]])"
      ]
     },
     "execution_count": 8,
     "metadata": {},
     "output_type": "execute_result"
    }
   ],
   "source": [
    "np.random.random((4,4))\n",
    "# the uniformed distrubuted randomization between [0, 1)"
   ]
  },
  {
   "cell_type": "code",
   "execution_count": 10,
   "metadata": {},
   "outputs": [
    {
     "data": {
      "text/plain": [
       "array([[ 1.31556355,  0.2068434 ,  1.5536713 ,  0.55477809],\n",
       "       [ 0.40065446, -1.50227042,  0.24814107, -0.49305877],\n",
       "       [-0.63908637,  0.92613456, -0.15137067, -1.99342782],\n",
       "       [-1.55948399,  0.03820832,  1.30057114,  0.54384403]])"
      ]
     },
     "execution_count": 10,
     "metadata": {},
     "output_type": "execute_result"
    }
   ],
   "source": [
    "np.random.randn(4,4)\n",
    "# the gaussian distribution with mean = 0 and sigma = 1"
   ]
  },
  {
   "cell_type": "code",
   "execution_count": 14,
   "metadata": {},
   "outputs": [
    {
     "data": {
      "text/plain": [
       "array([[ 62,  88,  -3,  87],\n",
       "       [ 40, -28, -87,   9],\n",
       "       [-51, -59, -32,  47],\n",
       "       [ 52,  57,  36, -18]])"
      ]
     },
     "execution_count": 14,
     "metadata": {},
     "output_type": "execute_result"
    }
   ],
   "source": [
    "np.random.randint(-100,100,(4,4))"
   ]
  },
  {
   "cell_type": "code",
   "execution_count": 34,
   "metadata": {},
   "outputs": [],
   "source": [
    "n = 10000\n",
    "a = np.random.randn(n)\n",
    "import time"
   ]
  },
  {
   "cell_type": "code",
   "execution_count": 47,
   "metadata": {},
   "outputs": [
    {
     "name": "stdout",
     "output_type": "stream",
     "text": [
      "Execution took 14.883041381835938 ms.\n"
     ]
    }
   ],
   "source": [
    "c = time.time()\n",
    "results = np.zeros(n)\n",
    "for i in range(n):\n",
    "    results[i] = np.exp(a[i])\n",
    "print(\"Execution took {} ms.\".format((time.time()-c)*1000))"
   ]
  },
  {
   "cell_type": "code",
   "execution_count": 48,
   "metadata": {},
   "outputs": [
    {
     "name": "stdout",
     "output_type": "stream",
     "text": [
      "Execution took 11.491775512695312 ms.\n"
     ]
    }
   ],
   "source": [
    "c = time.time()\n",
    "np.array(list(map(np.exp, a)))\n",
    "print(\"Execution took {} ms.\".format((time.time()-c)*1000))"
   ]
  },
  {
   "cell_type": "code",
   "execution_count": 49,
   "metadata": {},
   "outputs": [
    {
     "name": "stdout",
     "output_type": "stream",
     "text": [
      "Execution took 0.09918212890625 ms.\n"
     ]
    }
   ],
   "source": [
    "c = time.time()\n",
    "np.exp(a)\n",
    "print(\"Execution took {} ms.\".format((time.time()-c)*1000))"
   ]
  },
  {
   "cell_type": "code",
   "execution_count": 51,
   "metadata": {},
   "outputs": [
    {
     "data": {
      "text/plain": [
       "dtype('float64')"
      ]
     },
     "execution_count": 51,
     "metadata": {},
     "output_type": "execute_result"
    }
   ],
   "source": [
    "a.dtype"
   ]
  },
  {
   "cell_type": "code",
   "execution_count": 55,
   "metadata": {},
   "outputs": [],
   "source": [
    "a = np.random.random((10,5))\n",
    "b = np.random.random((10,5))\n",
    "c = np.random.random((5,20))"
   ]
  },
  {
   "cell_type": "code",
   "execution_count": 56,
   "metadata": {},
   "outputs": [
    {
     "data": {
      "text/plain": [
       "array([[0.71110356, 0.49826667, 0.61995325, 0.0837724 , 0.05857412],\n",
       "       [0.00809404, 0.20405804, 0.19184927, 0.31417188, 0.51399305],\n",
       "       [0.33216023, 0.52299293, 0.06302248, 0.55213759, 0.06687733],\n",
       "       [0.04111154, 0.13682544, 0.59338123, 0.60538995, 0.06367105],\n",
       "       [0.14158113, 0.38889696, 0.28555164, 0.35852062, 0.13723449],\n",
       "       [0.31640354, 0.11177095, 0.02291502, 0.02237482, 0.05019748],\n",
       "       [0.09761265, 0.68934887, 0.02154793, 0.01331432, 0.02464083],\n",
       "       [0.45568149, 0.05389595, 0.1144853 , 0.12995146, 0.03348017],\n",
       "       [0.00862374, 0.16151453, 0.46071521, 0.28174773, 0.29219589],\n",
       "       [0.50197551, 0.32784605, 0.24980071, 0.16511517, 0.09566533]])"
      ]
     },
     "execution_count": 56,
     "metadata": {},
     "output_type": "execute_result"
    }
   ],
   "source": [
    "a * b # element-wise + - * /"
   ]
  },
  {
   "cell_type": "code",
   "execution_count": 59,
   "metadata": {},
   "outputs": [
    {
     "data": {
      "text/plain": [
       "(10, 20)"
      ]
     },
     "execution_count": 59,
     "metadata": {},
     "output_type": "execute_result"
    }
   ],
   "source": [
    "np.matmul(a,c).shape"
   ]
  },
  {
   "cell_type": "code",
   "execution_count": 61,
   "metadata": {},
   "outputs": [
    {
     "data": {
      "text/plain": [
       "(10, 20)"
      ]
     },
     "execution_count": 61,
     "metadata": {},
     "output_type": "execute_result"
    }
   ],
   "source": [
    "(a @ c).shape"
   ]
  },
  {
   "cell_type": "code",
   "execution_count": 64,
   "metadata": {},
   "outputs": [
    {
     "data": {
      "text/plain": [
       "True"
      ]
     },
     "execution_count": 64,
     "metadata": {},
     "output_type": "execute_result"
    }
   ],
   "source": [
    "np.allclose(np.matmul(a,c),(a@c))"
   ]
  },
  {
   "cell_type": "code",
   "execution_count": null,
   "metadata": {},
   "outputs": [],
   "source": []
  }
 ],
 "metadata": {
  "kernelspec": {
   "display_name": "Python 3",
   "language": "python",
   "name": "python3"
  },
  "language_info": {
   "codemirror_mode": {
    "name": "ipython",
    "version": 3
   },
   "file_extension": ".py",
   "mimetype": "text/x-python",
   "name": "python",
   "nbconvert_exporter": "python",
   "pygments_lexer": "ipython3",
   "version": "3.7.3"
  }
 },
 "nbformat": 4,
 "nbformat_minor": 2
}
